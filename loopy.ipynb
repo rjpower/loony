{
 "cells": [
  {
   "cell_type": "code",
   "execution_count": 43,
   "metadata": {
    "collapsed": false
   },
   "outputs": [],
   "source": [
    "import numpy as np\n",
    "import loopy as lp\n",
    "import pyopencl as cl\n",
    "import pyopencl.array\n",
    "\n",
    "platform = cl.get_platforms()[0]\n",
    "\n",
    "# this is the GPU on my machine\n",
    "device = platform.get_devices()[1]\n",
    "ctx = cl.Context(devices=[device])\n",
    "queue = cl.CommandQueue(ctx)\n",
    "\n",
    "num_images = 64\n",
    "num_tiles = 64\n",
    "tw, th = (6, 6)\n",
    "w, h = (128, 128)\n",
    "images = cl.array.arange(queue, num_images*w*h, dtype=np.float32).reshape((num_images,w,h))\n",
    "weights = cl.array.arange(queue, tw*th*num_tiles, dtype=np.float32).reshape((num_tiles, tw, th))"
   ]
  },
  {
   "cell_type": "code",
   "execution_count": 44,
   "metadata": {
    "collapsed": false
   },
   "outputs": [
    {
     "name": "stdout",
     "output_type": "stream",
     "text": [
      "#define lid(N) ((int) get_local_id(N))\n",
      "#define gid(N) ((int) get_group_id(N))\n",
      "\n",
      "__kernel void __attribute__ ((reqd_work_group_size(4, 4, 4))) loopy_kernel(int const h, __global float const *restrict input, int const num_images, int const num_tiles, __global float *restrict out, int const tile_size, int const w, __global float const *restrict weights)\n",
      "{\n",
      "\n",
      "  if (-1 + -4 * gid(2) + -1 * lid(2) + num_tiles >= 0)\n",
      "    for (int image = 0; image <= -1 + num_images; ++image)\n",
      "      for (int i_outer = 0; i_outer <= -1 + ((3 + tile_size) / 4); ++i_outer)\n",
      "      {\n",
      "        for (int j_outer = 0; j_outer <= -1 + ((3 + tile_size) / 4); ++j_outer)\n",
      "        {\n",
      "          out[h * w * num_tiles * image + h * w * (lid(2) + gid(2) * 4) + h * (lid(0) + gid(0) * 4) + lid(1) + gid(1) * 4] = input[(-1 + h + tile_size) * (-1 + w + tile_size) * image + (-1 + h + tile_size) * (lid(0) + gid(0) * 4 + 0 + i_outer * 4) + lid(1) + gid(1) * 4 + 0 + j_outer * 4] * weights[tile_size * tile_size * (lid(2) + gid(2) * 4) + tile_size * (0 + i_outer * 4) + 0 + j_outer * 4];\n",
      "          out[h * w * num_tiles * image + h * w * (lid(2) + gid(2) * 4) + h * (lid(0) + gid(0) * 4) + lid(1) + gid(1) * 4] = input[(-1 + h + tile_size) * (-1 + w + tile_size) * image + (-1 + h + tile_size) * (lid(0) + gid(0) * 4 + 0 + i_outer * 4) + lid(1) + gid(1) * 4 + 1 + j_outer * 4] * weights[tile_size * tile_size * (lid(2) + gid(2) * 4) + tile_size * (0 + i_outer * 4) + 1 + j_outer * 4];\n",
      "          if (-4 + -4 * j_outer + tile_size >= 0)\n",
      "            out[h * w * num_tiles * image + h * w * (lid(2) + gid(2) * 4) + h * (lid(0) + gid(0) * 4) + lid(1) + gid(1) * 4] = input[(-1 + h + tile_size) * (-1 + w + tile_size) * image + (-1 + h + tile_size) * (lid(0) + gid(0) * 4 + 0 + i_outer * 4) + lid(1) + gid(1) * 4 + 2 + j_outer * 4] * weights[tile_size * tile_size * (lid(2) + gid(2) * 4) + tile_size * (0 + i_outer * 4) + 2 + j_outer * 4];\n",
      "          if (-4 + -4 * j_outer + tile_size >= 0)\n",
      "            out[h * w * num_tiles * image + h * w * (lid(2) + gid(2) * 4) + h * (lid(0) + gid(0) * 4) + lid(1) + gid(1) * 4] = input[(-1 + h + tile_size) * (-1 + w + tile_size) * image + (-1 + h + tile_size) * (lid(0) + gid(0) * 4 + 0 + i_outer * 4) + lid(1) + gid(1) * 4 + 3 + j_outer * 4] * weights[tile_size * tile_size * (lid(2) + gid(2) * 4) + tile_size * (0 + i_outer * 4) + 3 + j_outer * 4];\n",
      "        }\n",
      "        for (int j_outer = 0; j_outer <= -1 + ((3 + tile_size) / 4); ++j_outer)\n",
      "        {\n",
      "          out[h * w * num_tiles * image + h * w * (lid(2) + gid(2) * 4) + h * (lid(0) + gid(0) * 4) + lid(1) + gid(1) * 4] = input[(-1 + h + tile_size) * (-1 + w + tile_size) * image + (-1 + h + tile_size) * (lid(0) + gid(0) * 4 + 1 + i_outer * 4) + lid(1) + gid(1) * 4 + 0 + j_outer * 4] * weights[tile_size * tile_size * (lid(2) + gid(2) * 4) + tile_size * (1 + i_outer * 4) + 0 + j_outer * 4];\n",
      "          out[h * w * num_tiles * image + h * w * (lid(2) + gid(2) * 4) + h * (lid(0) + gid(0) * 4) + lid(1) + gid(1) * 4] = input[(-1 + h + tile_size) * (-1 + w + tile_size) * image + (-1 + h + tile_size) * (lid(0) + gid(0) * 4 + 1 + i_outer * 4) + lid(1) + gid(1) * 4 + 1 + j_outer * 4] * weights[tile_size * tile_size * (lid(2) + gid(2) * 4) + tile_size * (1 + i_outer * 4) + 1 + j_outer * 4];\n",
      "          if (-4 + -4 * j_outer + tile_size >= 0)\n",
      "            out[h * w * num_tiles * image + h * w * (lid(2) + gid(2) * 4) + h * (lid(0) + gid(0) * 4) + lid(1) + gid(1) * 4] = input[(-1 + h + tile_size) * (-1 + w + tile_size) * image + (-1 + h + tile_size) * (lid(0) + gid(0) * 4 + 1 + i_outer * 4) + lid(1) + gid(1) * 4 + 2 + j_outer * 4] * weights[tile_size * tile_size * (lid(2) + gid(2) * 4) + tile_size * (1 + i_outer * 4) + 2 + j_outer * 4];\n",
      "          if (-4 + -4 * j_outer + tile_size >= 0)\n",
      "            out[h * w * num_tiles * image + h * w * (lid(2) + gid(2) * 4) + h * (lid(0) + gid(0) * 4) + lid(1) + gid(1) * 4] = input[(-1 + h + tile_size) * (-1 + w + tile_size) * image + (-1 + h + tile_size) * (lid(0) + gid(0) * 4 + 1 + i_outer * 4) + lid(1) + gid(1) * 4 + 3 + j_outer * 4] * weights[tile_size * tile_size * (lid(2) + gid(2) * 4) + tile_size * (1 + i_outer * 4) + 3 + j_outer * 4];\n",
      "        }\n",
      "        if (-4 + -4 * i_outer + tile_size >= 0)\n",
      "          for (int j_outer = 0; j_outer <= -1 + ((3 + tile_size) / 4); ++j_outer)\n",
      "          {\n",
      "            out[h * w * num_tiles * image + h * w * (lid(2) + gid(2) * 4) + h * (lid(0) + gid(0) * 4) + lid(1) + gid(1) * 4] = input[(-1 + h + tile_size) * (-1 + w + tile_size) * image + (-1 + h + tile_size) * (lid(0) + gid(0) * 4 + 2 + i_outer * 4) + lid(1) + gid(1) * 4 + 0 + j_outer * 4] * weights[tile_size * tile_size * (lid(2) + gid(2) * 4) + tile_size * (2 + i_outer * 4) + 0 + j_outer * 4];\n",
      "            out[h * w * num_tiles * image + h * w * (lid(2) + gid(2) * 4) + h * (lid(0) + gid(0) * 4) + lid(1) + gid(1) * 4] = input[(-1 + h + tile_size) * (-1 + w + tile_size) * image + (-1 + h + tile_size) * (lid(0) + gid(0) * 4 + 2 + i_outer * 4) + lid(1) + gid(1) * 4 + 1 + j_outer * 4] * weights[tile_size * tile_size * (lid(2) + gid(2) * 4) + tile_size * (2 + i_outer * 4) + 1 + j_outer * 4];\n",
      "            if (-4 + -4 * j_outer + tile_size >= 0)\n",
      "              out[h * w * num_tiles * image + h * w * (lid(2) + gid(2) * 4) + h * (lid(0) + gid(0) * 4) + lid(1) + gid(1) * 4] = input[(-1 + h + tile_size) * (-1 + w + tile_size) * image + (-1 + h + tile_size) * (lid(0) + gid(0) * 4 + 2 + i_outer * 4) + lid(1) + gid(1) * 4 + 2 + j_outer * 4] * weights[tile_size * tile_size * (lid(2) + gid(2) * 4) + tile_size * (2 + i_outer * 4) + 2 + j_outer * 4];\n",
      "            if (-4 + -4 * j_outer + tile_size >= 0)\n",
      "              out[h * w * num_tiles * image + h * w * (lid(2) + gid(2) * 4) + h * (lid(0) + gid(0) * 4) + lid(1) + gid(1) * 4] = input[(-1 + h + tile_size) * (-1 + w + tile_size) * image + (-1 + h + tile_size) * (lid(0) + gid(0) * 4 + 2 + i_outer * 4) + lid(1) + gid(1) * 4 + 3 + j_outer * 4] * weights[tile_size * tile_size * (lid(2) + gid(2) * 4) + tile_size * (2 + i_outer * 4) + 3 + j_outer * 4];\n",
      "          }\n",
      "        if (-4 + -4 * i_outer + tile_size >= 0)\n",
      "          for (int j_outer = 0; j_outer <= -1 + ((3 + tile_size) / 4); ++j_outer)\n",
      "          {\n",
      "            out[h * w * num_tiles * image + h * w * (lid(2) + gid(2) * 4) + h * (lid(0) + gid(0) * 4) + lid(1) + gid(1) * 4] = input[(-1 + h + tile_size) * (-1 + w + tile_size) * image + (-1 + h + tile_size) * (lid(0) + gid(0) * 4 + 3 + i_outer * 4) + lid(1) + gid(1) * 4 + 0 + j_outer * 4] * weights[tile_size * tile_size * (lid(2) + gid(2) * 4) + tile_size * (3 + i_outer * 4) + 0 + j_outer * 4];\n",
      "            out[h * w * num_tiles * image + h * w * (lid(2) + gid(2) * 4) + h * (lid(0) + gid(0) * 4) + lid(1) + gid(1) * 4] = input[(-1 + h + tile_size) * (-1 + w + tile_size) * image + (-1 + h + tile_size) * (lid(0) + gid(0) * 4 + 3 + i_outer * 4) + lid(1) + gid(1) * 4 + 1 + j_outer * 4] * weights[tile_size * tile_size * (lid(2) + gid(2) * 4) + tile_size * (3 + i_outer * 4) + 1 + j_outer * 4];\n",
      "            if (-4 + -4 * j_outer + tile_size >= 0)\n",
      "              out[h * w * num_tiles * image + h * w * (lid(2) + gid(2) * 4) + h * (lid(0) + gid(0) * 4) + lid(1) + gid(1) * 4] = input[(-1 + h + tile_size) * (-1 + w + tile_size) * image + (-1 + h + tile_size) * (lid(0) + gid(0) * 4 + 3 + i_outer * 4) + lid(1) + gid(1) * 4 + 2 + j_outer * 4] * weights[tile_size * tile_size * (lid(2) + gid(2) * 4) + tile_size * (3 + i_outer * 4) + 2 + j_outer * 4];\n",
      "            if (-4 + -4 * j_outer + tile_size >= 0)\n",
      "              out[h * w * num_tiles * image + h * w * (lid(2) + gid(2) * 4) + h * (lid(0) + gid(0) * 4) + lid(1) + gid(1) * 4] = input[(-1 + h + tile_size) * (-1 + w + tile_size) * image + (-1 + h + tile_size) * (lid(0) + gid(0) * 4 + 3 + i_outer * 4) + lid(1) + gid(1) * 4 + 3 + j_outer * 4] * weights[tile_size * tile_size * (lid(2) + gid(2) * 4) + tile_size * (3 + i_outer * 4) + 3 + j_outer * 4];\n",
      "          }\n",
      "      }\n",
      "}\n"
     ]
    }
   ],
   "source": [
    "# Convolution over 3d (image, width, height)\n",
    "\n",
    "knl = lp.make_kernel(\n",
    "       \"{ [x,y,tile,image,i,j]: 0<=x<w and 0<=y<h and 0<=tile<num_tiles and 0<=image<num_images and 0<=i,j<tile_size}\",\n",
    "       \"\"\"\n",
    "       out[image,tile,x,y] = input[image,x+i,y+j] * weights[tile,i,j]\n",
    "       \"\"\",\n",
    "       assumptions=\"w,h,num_tiles,tile_size,num_images>0 and tile_size mod 6 = 0 and w mod 16 = 0 and h mod 16 = 0\")\n",
    "\n",
    "\n",
    "knl = lp.set_loop_priority(knl, \"image,tile,x,y,i,j\")\n",
    "\n",
    "knl = lp.split_iname(knl,  \"x\", 4, outer_tag=\"g.0\", inner_tag=\"l.0\")\n",
    "knl = lp.split_iname(knl,  \"y\", 4, outer_tag=\"g.1\", inner_tag=\"l.1\")\n",
    "knl = lp.split_iname(knl,  \"tile\", 4, outer_tag=\"g.2\", inner_tag=\"l.2\")\n",
    "knl = lp.split_iname(knl,  \"i\", 4, inner_tag=\"unr\")\n",
    "knl = lp.split_iname(knl,  \"j\", 4, inner_tag=\"unr\")\n",
    "\n",
    "knl = lp.add_dtypes(knl, { \"out\": np.float32, \"weights\": np.float32, \"input\": np.float32 })\n",
    "knl = lp.set_options(knl, 'write_cl')\n",
    "\n",
    "evt, (out,) = knl(queue, input=images, weights=weights, tile_size=6, w=123, h=123)"
   ]
  },
  {
   "cell_type": "code",
   "execution_count": 64,
   "metadata": {
    "collapsed": false
   },
   "outputs": [
    {
     "name": "stdout",
     "output_type": "stream",
     "text": [
      "#define lid(N) ((int) get_local_id(N))\n",
      "#define gid(N) ((int) get_group_id(N))\n",
      "\n",
      "__kernel void __attribute__ ((reqd_work_group_size(1, 1, 1))) loopy_kernel(__global float const *restrict input, int const n, __global float *restrict out)\n",
      "{\n",
      "\n",
      "  /* bulk slab for 'x_outer' */\n",
      "\n",
      "  if (-9 + -8 * gid(0) + n >= 0)\n",
      "  {\n",
      "    out[0 + gid(0) * 8] = tanh(input[0 + gid(0) * 8]);\n",
      "    out[1 + gid(0) * 8] = tanh(input[1 + gid(0) * 8]);\n",
      "    out[2 + gid(0) * 8] = tanh(input[2 + gid(0) * 8]);\n",
      "    out[3 + gid(0) * 8] = tanh(input[3 + gid(0) * 8]);\n",
      "    out[4 + gid(0) * 8] = tanh(input[4 + gid(0) * 8]);\n",
      "    out[5 + gid(0) * 8] = tanh(input[5 + gid(0) * 8]);\n",
      "    out[6 + gid(0) * 8] = tanh(input[6 + gid(0) * 8]);\n",
      "    out[7 + gid(0) * 8] = tanh(input[7 + gid(0) * 8]);\n",
      "  }\n",
      "  /* final slab for 'x_outer' */\n",
      "\n",
      "  if (8 + 8 * gid(0) + -1 * n >= 0)\n",
      "  {\n",
      "    out[0 + gid(0) * 8] = tanh(input[0 + gid(0) * 8]);\n",
      "    if (-2 + -8 * gid(0) + n >= 0)\n",
      "      out[1 + gid(0) * 8] = tanh(input[1 + gid(0) * 8]);\n",
      "    if (-3 + -8 * gid(0) + n >= 0)\n",
      "      out[2 + gid(0) * 8] = tanh(input[2 + gid(0) * 8]);\n",
      "    if (-4 + -8 * gid(0) + n >= 0)\n",
      "      out[3 + gid(0) * 8] = tanh(input[3 + gid(0) * 8]);\n",
      "    if (-5 + -8 * gid(0) + n >= 0)\n",
      "      out[4 + gid(0) * 8] = tanh(input[4 + gid(0) * 8]);\n",
      "    if (-6 + -8 * gid(0) + n >= 0)\n",
      "      out[5 + gid(0) * 8] = tanh(input[5 + gid(0) * 8]);\n",
      "    if (-7 + -8 * gid(0) + n >= 0)\n",
      "      out[6 + gid(0) * 8] = tanh(input[6 + gid(0) * 8]);\n",
      "    if (8 + 8 * gid(0) + -1 * n == 0)\n",
      "      out[7 + gid(0) * 8] = tanh(input[7 + gid(0) * 8]);\n",
      "  }\n",
      "}\n"
     ]
    }
   ],
   "source": [
    "# map (assume a flattened array)\n",
    "\n",
    "knl = lp.make_kernel(\n",
    "       \"{ [x]: 0<=x<n }\",\n",
    "       \"\"\"\n",
    "       out[x] = tanh(input[x])\n",
    "       \"\"\",\n",
    "       assumptions=\"n>0\")\n",
    "\n",
    "\n",
    "knl = lp.set_loop_priority(knl, \"x\")\n",
    "knl = lp.split_iname(knl,  \"x\", 8, outer_tag=\"g.0\", inner_tag=\"unr\", slabs=(0,1))\n",
    "knl = lp.set_options(knl, 'write_cl')\n",
    "\n",
    "in_array = cl.array.arange(queue, 1000, dtype=np.float32)\n",
    "evt, out_array = knl(queue, input=in_array)"
   ]
  },
  {
   "cell_type": "code",
   "execution_count": null,
   "metadata": {
    "collapsed": true
   },
   "outputs": [],
   "source": []
  },
  {
   "cell_type": "code",
   "execution_count": 32,
   "metadata": {
    "collapsed": false
   },
   "outputs": [
    {
     "data": {
      "text/plain": [
       "2.415919104"
      ]
     },
     "execution_count": 32,
     "metadata": {},
     "output_type": "execute_result"
    }
   ],
   "source": [
    "# statistics\n",
    "\n",
    "from loopy.statistics import get_op_poly\n",
    "import pprint\n",
    "op_map = get_op_poly(knl)\n",
    "op_map.dict[np.dtype(np.float32)].eval_with_dict({\n",
    "        'h': w,\n",
    "        'w': h,\n",
    "        'num_tiles': num_tiles,\n",
    "        'tile_size': tw,\n",
    "        'num_images': num_images\n",
    "    }) / 1e9"
   ]
  },
  {
   "cell_type": "code",
   "execution_count": null,
   "metadata": {
    "collapsed": true
   },
   "outputs": [],
   "source": []
  },
  {
   "cell_type": "code",
   "execution_count": null,
   "metadata": {
    "collapsed": true
   },
   "outputs": [],
   "source": []
  }
 ],
 "metadata": {
  "kernelspec": {
   "display_name": "Python 2",
   "language": "python",
   "name": "python2"
  },
  "language_info": {
   "codemirror_mode": {
    "name": "ipython",
    "version": 2
   },
   "file_extension": ".py",
   "mimetype": "text/x-python",
   "name": "python",
   "nbconvert_exporter": "python",
   "pygments_lexer": "ipython2",
   "version": "2.7.10"
  }
 },
 "nbformat": 4,
 "nbformat_minor": 0
}
